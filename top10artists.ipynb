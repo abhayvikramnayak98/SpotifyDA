{
 "cells": [
  {
   "cell_type": "markdown",
   "metadata": {},
   "source": [
    "## <center>Artists</center>"
   ]
  },
  {
   "cell_type": "code",
   "execution_count": null,
   "metadata": {},
   "outputs": [],
   "source": [
    "# Importing modules\n",
    "import numpy as np\n",
    "import pandas as pd\n",
    "import matplotlib.pyplot as plt\n",
    "import seaborn as sns"
   ]
  },
  {
   "cell_type": "code",
   "execution_count": null,
   "metadata": {},
   "outputs": [],
   "source": [
    "# Connecting the JSON file to Pandas\n",
    "df = pd.read_json('AccountData/StreamingHistory0.json')\n",
    "df.to_csv('SpotifyStreamData.csv')\n",
    "df"
   ]
  },
  {
   "cell_type": "code",
   "execution_count": null,
   "metadata": {},
   "outputs": [],
   "source": [
    "# Cleaning the time column to the correct format.\n",
    "df['playTime'] = pd.to_datetime(df['endTime'])\n",
    "df['year'] = pd.DatetimeIndex(df['playTime']).year\n",
    "df['month'] = pd.DatetimeIndex(df['playTime']).month\n",
    "df['day'] = pd.DatetimeIndex(df['playTime']).day\n",
    "df['weekday'] = pd.DatetimeIndex(df['playTime']).weekday\n",
    "df['time'] = pd.DatetimeIndex(df['playTime']).time\n",
    "df['hours'] = pd.DatetimeIndex(df['playTime']).hour\n",
    "df['day-name'] = df['playTime'].apply(lambda x: x.day_name())\n",
    "df['artists_count'] = 1\n",
    "df['songs_count'] = 1\n",
    "df['timePlayed'] = pd.to_timedelta(df['msPlayed'], unit='ms')\n",
    "df['ListenTimeHRS'] = df['timePlayed'].apply(lambda x: x.seconds/3600).round(3)\n",
    "df['ListenTimeMNTS'] = df['timePlayed'].apply(lambda x: (x.seconds/60)%60).round(3)\n",
    "df.drop(columns=['endTime', 'timePlayed', 'msPlayed'], inplace=True)"
   ]
  },
  {
   "cell_type": "code",
   "execution_count": null,
   "metadata": {},
   "outputs": [],
   "source": [
    "df"
   ]
  },
  {
   "cell_type": "code",
   "execution_count": null,
   "metadata": {},
   "outputs": [],
   "source": [
    "# Removing music before 1st Jan 2023\n",
    "df['playTime'] = pd.to_datetime(df['playTime'])\n",
    "lower_bound = pd.to_datetime('2022-12-31')\n",
    "upper_bound = pd.to_datetime('2023-12-01')\n",
    "artists_df = df[(df['playTime'] > lower_bound) & (df['playTime'] < upper_bound)].reset_index().drop(columns=['index'])\n",
    "artists_df"
   ]
  },
  {
   "cell_type": "code",
   "execution_count": null,
   "metadata": {},
   "outputs": [],
   "source": [
    "# Checking unique values\n",
    "artists_df.nunique()"
   ]
  },
  {
   "cell_type": "code",
   "execution_count": null,
   "metadata": {},
   "outputs": [],
   "source": [
    "# Calculating the unique artists\n",
    "total_artists = artists_df['artistName'].count().sum()\n",
    "unique_artist = artists_df['artistName'].nunique()\n",
    "total_artists, unique_artist"
   ]
  },
  {
   "cell_type": "code",
   "execution_count": null,
   "metadata": {},
   "outputs": [],
   "source": [
    "# Percentage of unique artists\n",
    "uniqueArtistList = np.array([unique_artist, total_artists - unique_artist])\n",
    "unique_artistLab = ['Unique Artists', 'Non-Unique Artists']\n",
    "colors = ['#ADFF2F', '#FFA500']\n",
    "explode = (0.05, 0.05)\n",
    "plt.pie(uniqueArtistList, colors=colors, labels=unique_artistLab, autopct='%1.1f%%', pctdistance=0.85, explode=explode, startangle=180)\n",
    "centre_circle = plt.Circle((0, 0), 0.7, fc='white')\n",
    "fig = plt.gcf()\n",
    "fig.gca().add_artist(centre_circle)\n",
    "plt.title('Percentage of Unique Artists')\n",
    "plt.savefig('unique_artists.png')\n",
    "plt.show()"
   ]
  },
  {
   "cell_type": "code",
   "execution_count": null,
   "metadata": {},
   "outputs": [],
   "source": [
    "# Grouping the artists and sorting them for top 10 artists\n",
    "top10ArtistsTimeDF = artists_df.groupby(['artistName'])[['ListenTimeHRS', 'ListenTimeMNTS', 'artists_count']].sum().sort_values(by='ListenTimeMNTS', ascending=False).reset_index().head(10)\n",
    "top10ArtistsTimeDF"
   ]
  },
  {
   "cell_type": "code",
   "execution_count": null,
   "metadata": {},
   "outputs": [],
   "source": [
    "# Graph for top 10 artists\n",
    "sns.set(style=\"whitegrid\")\n",
    "\n",
    "# Create a bar chart\n",
    "plt.figure(figsize=(10, 6))\n",
    "bar_chart = sns.barplot(x='artistName', y='ListenTimeHRS', data=top10ArtistsTimeDF, palette='viridis')\n",
    "bar_chart.set_xticklabels(bar_chart.get_xticklabels(), rotation=45, horizontalalignment='right')\n",
    "bar_chart.set_title('Listen Time in Hours by Artist')\n",
    "bar_chart.set_xlabel('Artist Name')\n",
    "bar_chart.set_ylabel('Listen Time (Hours)')\n",
    "\n",
    "# Save the graph to a PNG file\n",
    "plt.savefig('listen_time_bar_chart.png')\n",
    "\n",
    "# Display the chart\n",
    "plt.show()"
   ]
  },
  {
   "cell_type": "code",
   "execution_count": null,
   "metadata": {},
   "outputs": [],
   "source": []
  }
 ],
 "metadata": {
  "kernelspec": {
   "display_name": "Python 3",
   "language": "python",
   "name": "python3"
  },
  "language_info": {
   "codemirror_mode": {
    "name": "ipython",
    "version": 3
   },
   "file_extension": ".py",
   "mimetype": "text/x-python",
   "name": "python",
   "nbconvert_exporter": "python",
   "pygments_lexer": "ipython3",
   "version": "3.12.0"
  }
 },
 "nbformat": 4,
 "nbformat_minor": 2
}
